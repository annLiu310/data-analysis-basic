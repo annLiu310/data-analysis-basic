{
  "nbformat": 4,
  "nbformat_minor": 0,
  "metadata": {
    "colab": {
      "name": "02-SF Salaries Exercise - Solutions.ipynb",
      "version": "0.3.2",
      "provenance": [],
      "private_outputs": true,
      "include_colab_link": true
    },
    "kernelspec": {
      "display_name": "Python 3",
      "language": "python",
      "name": "python3"
    }
  },
  "cells": [
    {
      "cell_type": "markdown",
      "metadata": {
        "id": "view-in-github",
        "colab_type": "text"
      },
      "source": [
        "<a href=\"https://colab.research.google.com/github/annLiu310/data-analysis-basic/blob/master/02_Salaries_Data_Analysis.ipynb\" target=\"_parent\"><img src=\"https://colab.research.google.com/assets/colab-badge.svg\" alt=\"Open In Colab\"/></a>"
      ]
    },
    {
      "metadata": {
        "id": "Lbcq3EBNCl3z",
        "colab_type": "text"
      },
      "cell_type": "markdown",
      "source": [
        "# SF Salaries Practices\n",
        "\n",
        "data set: [SF Salaries Dataset](https://www.kaggle.com/kaggle/sf-salaries) from Kaggle\n"
      ]
    },
    {
      "metadata": {
        "id": "8ZRSpp5vCl31",
        "colab_type": "code",
        "colab": {}
      },
      "cell_type": "code",
      "source": [
        "\n",
        "# Import pandas as pd.\n",
        "import pandas as pd"
      ],
      "execution_count": 0,
      "outputs": []
    },
    {
      "metadata": {
        "id": "zI3cr-ZCCl37",
        "colab_type": "code",
        "colab": {}
      },
      "cell_type": "code",
      "source": [
        "# Read Salaries.csv as a dataframe called sal.\n",
        "sal = pd.read_csv('https://raw.githubusercontent.com/annLiu310/data-analysis-basic/master/DataSet_Salaries.csv')"
      ],
      "execution_count": 0,
      "outputs": []
    },
    {
      "metadata": {
        "id": "npe1nzh-Cl3-",
        "colab_type": "code",
        "colab": {}
      },
      "cell_type": "code",
      "source": [
        "# Check the head of the DataFrame.\n",
        "sal.head()"
      ],
      "execution_count": 0,
      "outputs": []
    },
    {
      "metadata": {
        "id": "kFn8_cwACl4E",
        "colab_type": "code",
        "colab": {}
      },
      "cell_type": "code",
      "source": [
        "# Use the .info() method to find out how many entries there are.\n",
        "sal.info() # 148654 Entries"
      ],
      "execution_count": 0,
      "outputs": []
    },
    {
      "metadata": {
        "id": "C_WdkJKCCl4H",
        "colab_type": "code",
        "colab": {}
      },
      "cell_type": "code",
      "source": [
        "# calculation average of column BasePay\n",
        "sal['BasePay'].mean()"
      ],
      "execution_count": 0,
      "outputs": []
    },
    {
      "metadata": {
        "id": "595s2IH_Cl4K",
        "colab_type": "text"
      },
      "cell_type": "markdown",
      "source": [
        "** What is the highest amount of OvertimePay in the dataset ? **"
      ]
    },
    {
      "metadata": {
        "id": "Q6n3Sjl2Cl4L",
        "colab_type": "code",
        "colab": {}
      },
      "cell_type": "code",
      "source": [
        "\n",
        "# Calculate max\n",
        "sal['OvertimePay'].max()"
      ],
      "execution_count": 0,
      "outputs": []
    },
    {
      "metadata": {
        "id": "cJwFhR9BCl4P",
        "colab_type": "code",
        "colab": {}
      },
      "cell_type": "code",
      "source": [
        "#  Get the job title of JOSEPH DRISCOLL\n",
        "sal[sal['EmployeeName']=='JOSEPH DRISCOLL']"
      ],
      "execution_count": 0,
      "outputs": []
    },
    {
      "metadata": {
        "id": "_O9eUx3XL6CL",
        "colab_type": "code",
        "colab": {}
      },
      "cell_type": "code",
      "source": [
        "sal[sal['EmployeeName']=='JOSEPH DRISCOLL']['JobTitle']"
      ],
      "execution_count": 0,
      "outputs": []
    },
    {
      "metadata": {
        "id": "7CBnj5gjCl4R",
        "colab_type": "text"
      },
      "cell_type": "markdown",
      "source": [
        "** How much does JOSEPH DRISCOLL make (including benefits)? **"
      ]
    },
    {
      "metadata": {
        "id": "v2UU6X7BCl4T",
        "colab_type": "code",
        "colab": {}
      },
      "cell_type": "code",
      "source": [
        "# How much does JOSEPH DRISCOLL make (including benefits)?\n",
        "\n",
        "sal[sal['EmployeeName']=='JOSEPH DRISCOLL']['TotalPayBenefits']"
      ],
      "execution_count": 0,
      "outputs": []
    },
    {
      "metadata": {
        "id": "LT2xllWDCl4V",
        "colab_type": "text"
      },
      "cell_type": "markdown",
      "source": [
        "** What is the name of highest paid person (including benefits)?**"
      ]
    },
    {
      "metadata": {
        "id": "6VGareG7MfhT",
        "colab_type": "code",
        "colab": {}
      },
      "cell_type": "code",
      "source": [
        "\n",
        "# Get the name of highest paid person (including benefits)\n",
        "\n",
        "\n",
        "sal[sal['TotalPayBenefits']==sal['TotalPayBenefits'].max()]['EmployeeName']"
      ],
      "execution_count": 0,
      "outputs": []
    },
    {
      "metadata": {
        "id": "qGiak2R8MfbW",
        "colab_type": "code",
        "colab": {}
      },
      "cell_type": "code",
      "source": [
        "# or sal.loc[sal['TotalPayBenefits'].idxmax()]\n",
        "sal.loc[sal['TotalPayBenefits'].idxmax()]['EmployeeName']"
      ],
      "execution_count": 0,
      "outputs": []
    },
    {
      "metadata": {
        "id": "1NAGwuRZCl4c",
        "colab_type": "text"
      },
      "cell_type": "markdown",
      "source": [
        "** What is the name of lowest paid person (including benefits)? Do you notice something strange about how much he or she is paid?**"
      ]
    },
    {
      "metadata": {
        "id": "SGIktHddCl4d",
        "colab_type": "code",
        "colab": {}
      },
      "cell_type": "code",
      "source": [
        "#the name of lowest paid person (including benefits)\n",
        "\n",
        "sal[sal['TotalPayBenefits']== sal['TotalPayBenefits'].min()] #['EmployeeName']\n",
        "# or\n",
        "# sal.loc[sal['TotalPayBenefits'].idxmax()]['EmployeeName']"
      ],
      "execution_count": 0,
      "outputs": []
    },
    {
      "metadata": {
        "id": "JItEszdiCl4g",
        "colab_type": "text"
      },
      "cell_type": "markdown",
      "source": [
        "** What was the average (mean) BasePay of all employees per year? (2011-2014) ? **"
      ]
    },
    {
      "metadata": {
        "id": "i7sHW6k6Cl4g",
        "colab_type": "code",
        "colab": {}
      },
      "cell_type": "code",
      "source": [
        "# the average (mean) BasePay of all employees per year? (2011-2014) \n",
        "\n",
        "\n",
        "sal.groupby('Year').mean()['BasePay']"
      ],
      "execution_count": 0,
      "outputs": []
    },
    {
      "metadata": {
        "id": "MFI2dginOy4B",
        "colab_type": "code",
        "colab": {}
      },
      "cell_type": "code",
      "source": [
        "# the max BasePay of all employees per year? (2011-2014) \n",
        "\n",
        "sal.groupby('Year').min()['BasePay']"
      ],
      "execution_count": 0,
      "outputs": []
    },
    {
      "metadata": {
        "id": "-TTOT79tCl4l",
        "colab_type": "text"
      },
      "cell_type": "markdown",
      "source": [
        "** How many unique job titles are there? **"
      ]
    },
    {
      "metadata": {
        "id": "AL5NVtSGCl4l",
        "colab_type": "code",
        "colab": {}
      },
      "cell_type": "code",
      "source": [
        "\n",
        "#How many unique job titles are there\n",
        "sal['JobTitle'].nunique()"
      ],
      "execution_count": 0,
      "outputs": []
    },
    {
      "metadata": {
        "id": "nsV703kRCl4t",
        "colab_type": "text"
      },
      "cell_type": "markdown",
      "source": [
        "** What are the top 5 most common jobs? **"
      ]
    },
    {
      "metadata": {
        "id": "MQ3yScbcCl4v",
        "colab_type": "code",
        "colab": {}
      },
      "cell_type": "code",
      "source": [
        "# the top 5 most common jobs\n",
        "\n",
        "sal['JobTitle'].value_counts().head(5)"
      ],
      "execution_count": 0,
      "outputs": []
    },
    {
      "metadata": {
        "id": "JiG9mXF2Cl4y",
        "colab_type": "text"
      },
      "cell_type": "markdown",
      "source": [
        "** How many Job Titles were represented by only one person in 2013? (e.g. Job Titles with only one occurence in 2013?) **"
      ]
    },
    {
      "metadata": {
        "id": "PI_TTb33Cl4y",
        "colab_type": "code",
        "colab": {}
      },
      "cell_type": "code",
      "source": [
        "sum(sal[sal['Year']==2013]['JobTitle'].value_counts() == 1) # pretty tricky way to do this..."
      ],
      "execution_count": 0,
      "outputs": []
    },
    {
      "metadata": {
        "id": "Qm56EKLcCl42",
        "colab_type": "text"
      },
      "cell_type": "markdown",
      "source": [
        "** How many people have the word Chief in their job title? (This is pretty tricky) **"
      ]
    },
    {
      "metadata": {
        "id": "R9Ms64K9Cl42",
        "colab_type": "code",
        "colab": {}
      },
      "cell_type": "code",
      "source": [
        "def chief_string(title):\n",
        "    if 'chief' in title.lower():\n",
        "        return True\n",
        "    else:\n",
        "        return False"
      ],
      "execution_count": 0,
      "outputs": []
    },
    {
      "metadata": {
        "id": "i0F3urP7Cl45",
        "colab_type": "code",
        "colab": {}
      },
      "cell_type": "code",
      "source": [
        "sum(sal['JobTitle'].apply(lambda x: chief_string(x)))"
      ],
      "execution_count": 0,
      "outputs": []
    },
    {
      "metadata": {
        "id": "1qk3WBhcCl48",
        "colab_type": "text"
      },
      "cell_type": "markdown",
      "source": [
        "** Bonus: Is there a correlation between length of the Job Title string and Salary? **"
      ]
    },
    {
      "metadata": {
        "id": "1GtvvXMRCl49",
        "colab_type": "code",
        "colab": {}
      },
      "cell_type": "code",
      "source": [
        "sal['title_len'] = sal['JobTitle'].apply(len)"
      ],
      "execution_count": 0,
      "outputs": []
    },
    {
      "metadata": {
        "id": "N0H5LkXbCl4-",
        "colab_type": "code",
        "colab": {}
      },
      "cell_type": "code",
      "source": [
        "sal[['title_len','TotalPayBenefits']].corr() # No correlation."
      ],
      "execution_count": 0,
      "outputs": []
    }
  ]
}